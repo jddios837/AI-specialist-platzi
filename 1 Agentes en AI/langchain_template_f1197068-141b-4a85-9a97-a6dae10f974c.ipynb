{
  "nbformat": 4,
  "nbformat_minor": 0,
  "metadata": {
    "colab": {
      "provenance": []
    },
    "kernelspec": {
      "name": "python3",
      "display_name": "Python 3"
    },
    "language_info": {
      "name": "python"
    }
  },
  "cells": [
    {
      "cell_type": "markdown",
      "source": [
        "# LLMs"
      ],
      "metadata": {
        "id": "JFT2z_xJSqan"
      }
    },
    {
      "cell_type": "markdown",
      "source": [
        "## Hugging Face"
      ],
      "metadata": {
        "id": "c3HssISYStt3"
      }
    },
    {
      "cell_type": "code",
      "source": [
        "%pip install --upgrade transformers langchain-huggingface"
      ],
      "metadata": {
        "id": "AUagYHe1N9-n"
      },
      "execution_count": null,
      "outputs": []
    },
    {
      "cell_type": "code",
      "source": [
        "from langchain_huggingface.llms import HuggingFacePipeline\n",
        "\n"
      ],
      "metadata": {
        "id": "VvL1wWcMOiWo"
      },
      "execution_count": null,
      "outputs": []
    },
    {
      "cell_type": "code",
      "source": [
        "question = \"What is electroencephalography?\"\n"
      ],
      "metadata": {
        "id": "BOHTVKv5OtkM"
      },
      "execution_count": null,
      "outputs": []
    },
    {
      "cell_type": "markdown",
      "source": [
        "# Instalación"
      ],
      "metadata": {
        "id": "sEhTKaHUUsgK"
      }
    },
    {
      "cell_type": "code",
      "source": [
        "pip install langchain-google-genai"
      ],
      "metadata": {
        "id": "Unb0qYv-UuN-"
      },
      "execution_count": null,
      "outputs": []
    },
    {
      "cell_type": "code",
      "source": [
        "import os\n",
        "from getpass import getpass\n",
        "\n",
        "os.environ['GOOGLE_API_KEY'] = getpass('API_KEY: ')"
      ],
      "metadata": {
        "id": "82X3dxvdXBX0"
      },
      "execution_count": null,
      "outputs": []
    },
    {
      "cell_type": "code",
      "source": [
        "from langchain_google_genai import GoogleGenerativeAI"
      ],
      "metadata": {
        "id": "eo9Gmi5eauuo"
      },
      "execution_count": null,
      "outputs": []
    },
    {
      "cell_type": "markdown",
      "source": [
        "## OpenAI"
      ],
      "metadata": {
        "id": "iXsa3vgIbUMt"
      }
    },
    {
      "cell_type": "code",
      "source": [
        "import getpass\n",
        "import os\n",
        "\n",
        "if \"OPENAI_API_KEY\" not in os.environ:\n",
        "    os.environ[\"OPENAI_API_KEY\"] = getpass.getpass(\"Enter your OpenAI API key: \")"
      ],
      "metadata": {
        "id": "zdfGABrSbV_6",
        "collapsed": true
      },
      "execution_count": null,
      "outputs": []
    },
    {
      "cell_type": "markdown",
      "source": [
        "# DB"
      ],
      "metadata": {
        "id": "Z9WUXMYLcKfB"
      }
    },
    {
      "cell_type": "code",
      "source": [
        "!pip install chromadb pinecone"
      ],
      "metadata": {
        "id": "cvJ6f6vpbV8C"
      },
      "execution_count": null,
      "outputs": []
    },
    {
      "cell_type": "markdown",
      "source": [
        "## OpenAI"
      ],
      "metadata": {
        "id": "UQbbCTVOi-wf"
      }
    },
    {
      "cell_type": "code",
      "source": [
        "import getpass\n",
        "import os\n",
        "\n",
        "if \"OPENAI_API_KEY\" not in os.environ:\n",
        "    os.environ[\"OPENAI_API_KEY\"] = getpass.getpass(\"Enter your OpenAI API key: \")"
      ],
      "metadata": {
        "id": "pmM2HWaabksx"
      },
      "execution_count": null,
      "outputs": []
    },
    {
      "cell_type": "code",
      "source": [
        "!pip install -qU langchain-openai"
      ],
      "metadata": {
        "id": "SkZl4a0eilSS"
      },
      "execution_count": null,
      "outputs": []
    },
    {
      "cell_type": "code",
      "source": [],
      "metadata": {
        "id": "7jAEGba6jr9b"
      },
      "execution_count": null,
      "outputs": []
    },
    {
      "cell_type": "code",
      "source": [],
      "metadata": {
        "id": "94UirQEmkf0S"
      },
      "execution_count": null,
      "outputs": []
    },
    {
      "cell_type": "code",
      "source": [],
      "metadata": {
        "id": "hTkaOZPGlCZr"
      },
      "execution_count": null,
      "outputs": []
    },
    {
      "cell_type": "code",
      "source": [],
      "metadata": {
        "id": "wruWuPqKlPtq"
      },
      "execution_count": null,
      "outputs": []
    },
    {
      "cell_type": "code",
      "source": [
        "from langchain_core.prompts import ChatPromptTemplate\n",
        "\n",
        "# Crear una plantilla de prompt para traducciones\n",
        "\n",
        "\n",
        "# Encadenar la plantilla con el modelo de Google AI\n",
        "\n",
        "\n",
        "# Invocar la cadena con parámetros específicos\n"
      ],
      "metadata": {
        "id": "R_c3AahzMjsi"
      },
      "execution_count": null,
      "outputs": []
    }
  ]
}